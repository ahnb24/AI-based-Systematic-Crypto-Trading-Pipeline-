{
 "cells": [
  {
   "cell_type": "code",
   "execution_count": 1,
   "metadata": {},
   "outputs": [],
   "source": [
    "from feature_creation_module import run_all_pipeline\n",
    "from create_dataset.columns_merge_func import history_columns_merge\n",
    "from configs.feature_configs_general import generate_general_config\n",
    "config_general = generate_general_config()\n",
    "from data_crawlers.trade_data_binance import get_trades_data\n",
    "from data_crawlers.klines_data_binance import get_klines_data\n",
    "from data_manipulation.data_manipulation import data_manipulation"
   ]
  },
  {
   "cell_type": "code",
   "execution_count": null,
   "metadata": {},
   "outputs": [],
   "source": [
    "get_klines_data(config_general, start_date=\"2025-03-01\")"
   ]
  },
  {
   "cell_type": "code",
   "execution_count": null,
   "metadata": {},
   "outputs": [],
   "source": [
    "get_trades_data(config_general, agg=True, start_date='2025-03-01')"
   ]
  },
  {
   "cell_type": "code",
   "execution_count": null,
   "metadata": {},
   "outputs": [],
   "source": [
    "run_all_pipeline()\n"
   ]
  },
  {
   "cell_type": "code",
   "execution_count": null,
   "metadata": {},
   "outputs": [],
   "source": [
    "previous_dir = \"pipeline_dir\"\n",
    "# previous_dir = \"local_dir\"\n",
    "\n",
    "data_manipulation(config_general, previous_dir)"
   ]
  }
 ],
 "metadata": {
  "kernelspec": {
   "display_name": "Python 3",
   "language": "python",
   "name": "python3"
  },
  "language_info": {
   "codemirror_mode": {
    "name": "ipython",
    "version": 3
   },
   "file_extension": ".py",
   "mimetype": "text/x-python",
   "name": "python",
   "nbconvert_exporter": "python",
   "pygments_lexer": "ipython3",
   "version": "3.13.6"
  }
 },
 "nbformat": 4,
 "nbformat_minor": 2
}
