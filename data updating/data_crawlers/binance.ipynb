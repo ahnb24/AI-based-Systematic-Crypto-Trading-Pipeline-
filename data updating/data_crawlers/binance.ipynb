{
 "cells": [
  {
   "cell_type": "code",
   "execution_count": null,
   "metadata": {},
   "outputs": [],
   "source": [
    "import sys\n",
    "import os\n",
    "sys.path.append(os.path.dirname(os.getcwd()))\n",
    "import requests\n",
    "import pandas as pd\n",
    "from datetime import datetime\n",
    "import pytz\n",
    "from configs.history_data_crawlers_config import metatrader_number_of_days\n",
    "from utils.df_utils import ffill_df_to_true_time_steps\n",
    "from utils.logging_tools import default_logger\n",
    "from dotenv import load_dotenv\n",
    "from pathlib import Path\n",
    "from configs.history_data_crawlers_config import (\n",
    "    data_folder,\n",
    "    symbols_dict,\n",
    ")\n",
    "import os\n",
    "\n",
    "load_dotenv()\n",
    "broker_path = os.environ.get(\"BROKER_PATH\")\n",
    "timezone = pytz.timezone(\"Etc/UTC\")\n",
    "\n",
    "def crawl_OHLCV_data_binance(    \n",
    "        feature_config: dict, logger=default_logger, number_of_days: int =metatrader_number_of_days, \\\n",
    "            forward_fill :bool =False,\n",
    ") :\n",
    "    logger.info(f\"= \" * 25)\n",
    "    logger.info(f\"--> start crawl_OHLCV_data_binance func:\")\n",
    "\n",
    "    data_source = \"binance\"\n",
    "    folder_name = f\"{data_folder}/{data_source}/\"\n",
    "    Path(folder_name).mkdir(parents=True, exist_ok=True)\n",
    "    interval = \"5m\"\n",
    "\n",
    "    # Define the endpoint and parameters\n",
    "    base_url = \"https://api.binance.com\"\n",
    "    endpoint = \"/api/v3/klines\"\n",
    "    symbol = \"BTCUSDT\"\n",
    "    limit = 1000  # Binance API max limit per request is 1000\n",
    "    total_samples = 10000000  # Total number of samples you want\n",
    "    all_data = []\n",
    "   \n",
    "\n",
    "    for symbol in list(feature_config.keys()):\n",
    "\n",
    "        logger.info(f\"--> symbol: {symbol}\")\n",
    "        file_name = f\"{folder_name}/{symbol}_{data_source}.parquet\"\n",
    "        symbol = symbols_dict[symbol][\"binance_id\"]\n",
    "        # Start fetching data from now backwards\n",
    "        current_time = None\n",
    "\n",
    "        while len(all_data) < total_samples:\n",
    "            # Construct the full URL with optional start time for pagination\n",
    "            if current_time:\n",
    "                url = f\"{base_url}{endpoint}?symbol={symbol}&interval={interval}&limit={limit}&endTime={current_time}\"\n",
    "            else:\n",
    "                url = f\"{base_url}{endpoint}?symbol={symbol}&interval={interval}&limit={limit}\"\n",
    "\n",
    "            # Fetch the data\n",
    "            response = requests.get(url)\n",
    "            data = response.json()\n",
    "        \n",
    "            if len(data) == 0:\n",
    "                break  # Stop if there's no more data\n",
    "\n",
    "            # Append to all_data\n",
    "            all_data += data\n",
    "        \n",
    "            # Update the current_time to be the open time of the oldest candle minus 1 ms\n",
    "            current_time = data[0][0] - 1\n",
    "    \n",
    "        # Trim the data to only the first 10,000 samples\n",
    "        all_data = all_data[:total_samples]\n",
    "    \n",
    "        # Define column names for the DataFrame\n",
    "        columns = [\n",
    "            'open_time','open','high','low','close','volume','1','2','3','4','5','6']\n",
    "\n",
    "        # Convert the data to a DataFrame\n",
    "        df = pd.DataFrame(all_data, columns=columns)\n",
    "\n",
    "        # Clean the DataFrame (drop unnecessary columns)\n",
    "        df.drop(columns=['1','2','3','4','5','6'], inplace=True)\n",
    "\n",
    "\n",
    "        # Convert timestamp to a readable format\n",
    "        df[\"open_time\"] = pd.to_datetime(df[\"open_time\"], unit='ms')\n",
    "\n",
    "        # Convert numeric columns to appropriate types\n",
    "        df['high'] = pd.to_numeric(df['high'], errors='coerce')\n",
    "        df['low'] = pd.to_numeric(df['low'], errors='coerce')\n",
    "        df['close'] = pd.to_numeric(df['close'], errors='coerce')\n",
    "        df['volume'] = pd.to_numeric(df['volume'], errors='coerce')\n",
    "\n",
    "        # Drop the last row (optional, based on your original code)\n",
    "        df = df.drop(df.index[-1])\n",
    "\n",
    "\n",
    "        # Save to CSV\n",
    "        # df.to_csv('last10000h.csv', index=False)\n",
    "        if df.shape[0] == 0:\n",
    "            logger.info(f\"!!! no data for {symbol} | skip this item\")\n",
    "            continue\n",
    "\n",
    "        df = df.sort_values(\"open_time\").reset_index(drop=True)\n",
    "        df[\"data_source\"] = data_source\n",
    "        df[\"symbol\"] = symbol\n",
    "        df.to_parquet(file_name, index=False)\n",
    "    \n",
    "    logger.info(f\"--> crawl_OHLCV_data_binance run successfully.\")\n",
    "    return True"
   ]
  },
  {
   "cell_type": "code",
   "execution_count": 13,
   "metadata": {},
   "outputs": [
    {
     "name": "stderr",
     "output_type": "stream",
     "text": [
      "  \u001b[32m[test run][INFO]\u001b[0m:\u001b[32m= = = = = = = = = = = = = = = = = = = = = = = = = \u001b[0m\n",
      "  \u001b[32m[test run][INFO]\u001b[0m:\u001b[32m--> start crawl_OHLCV_data_binance func:\u001b[0m\n",
      "  \u001b[32m[test run][INFO]\u001b[0m:\u001b[32m--> symbol: BTCUSDT\u001b[0m\n",
      "  \u001b[32m[test run][INFO]\u001b[0m:\u001b[32m--> crawl_OHLCV_data_metatrader run successfully.\u001b[0m\n"
     ]
    },
    {
     "data": {
      "text/plain": [
       "True"
      ]
     },
     "execution_count": 13,
     "metadata": {},
     "output_type": "execute_result"
    }
   ],
   "source": [
    "from configs.feature_configs_general import generate_general_config\n",
    "config_general = generate_general_config()\n",
    "crawl_OHLCV_data_binance(config_general)"
   ]
  },
  {
   "cell_type": "code",
   "execution_count": 15,
   "metadata": {},
   "outputs": [
    {
     "data": {
      "text/plain": [
       "'c:\\\\Users\\\\a\\\\Desktop\\\\ML-Based Algorithmic Trading\\\\week4'"
      ]
     },
     "execution_count": 15,
     "metadata": {},
     "output_type": "execute_result"
    }
   ],
   "source": [
    "os.path.dirname(os.path.dirname(os.getcwd()))"
   ]
  }
 ],
 "metadata": {
  "kernelspec": {
   "display_name": "Python 3",
   "language": "python",
   "name": "python3"
  },
  "language_info": {
   "codemirror_mode": {
    "name": "ipython",
    "version": 3
   },
   "file_extension": ".py",
   "mimetype": "text/x-python",
   "name": "python",
   "nbconvert_exporter": "python",
   "pygments_lexer": "ipython3",
   "version": "3.11.9"
  }
 },
 "nbformat": 4,
 "nbformat_minor": 2
}
