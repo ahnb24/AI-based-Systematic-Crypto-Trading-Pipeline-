{
 "cells": [
  {
   "cell_type": "code",
   "execution_count": null,
   "id": "211f3202",
   "metadata": {},
   "outputs": [],
   "source": [
    "%load_ext autoreload\n",
    "%reload_ext autoreload\n",
    "%autoreload 2"
   ]
  },
  {
   "cell_type": "code",
   "execution_count": null,
   "id": "8b2dc4de",
   "metadata": {},
   "outputs": [],
   "source": [
    "import sys\n",
    "from dotenv import load_dotenv\n",
    "import os\n",
    "load_dotenv()\n"
   ]
  },
  {
   "cell_type": "code",
   "execution_count": null,
   "id": "7e3b0c41",
   "metadata": {},
   "outputs": [],
   "source": [
    "access_id = \n",
    "secret_key = \n",
    "\n",
    "all_trades = {}\n",
    "\n",
    "from trade_execution.coinex_trade_execution_functions import (\n",
    "    CoinexRequestsClient,\n",
    "    cal_candle_time_now,\n",
    "    get_spot_balance,\n",
    "    check_active_positions_for_time_force_close,\n",
    "    open_position,\n",
    "    check_tp_sl_positions,\n",
    "    close_and_exit,\n",
    "    cancel_all_orders,\n",
    "    get_open_stop_orders,\n",
    "    get_open_orders,\n",
    "    get_open_stop_orders,\n",
    "    get_symbol_price,\n",
    "    get_value,\n",
    "    close_and_exit,\n",
    "    start_open_position,\n",
    "    stop_open_position,\n",
    "    count_active_positions\n",
    ")\n",
    "\n",
    "\n",
    "coinex_request = CoinexRequestsClient(access_id, secret_key)\n",
    "\n",
    "\n",
    "balance = get_spot_balance(coinex_request)\n",
    "print(balance)\n"
   ]
  },
  {
   "cell_type": "code",
   "execution_count": null,
   "id": "fb497883",
   "metadata": {},
   "outputs": [],
   "source": [
    "stop_open_position()"
   ]
  },
  {
   "cell_type": "code",
   "execution_count": null,
   "id": "71d90a6d",
   "metadata": {},
   "outputs": [],
   "source": [
    "start_open_position()"
   ]
  },
  {
   "cell_type": "code",
   "execution_count": null,
   "id": "2c156618",
   "metadata": {},
   "outputs": [],
   "source": [
    "symbol=\"LINKUSDT\""
   ]
  },
  {
   "cell_type": "code",
   "execution_count": null,
   "id": "71b27eeb",
   "metadata": {},
   "outputs": [],
   "source": [
    "count_active_positions(all_trades['Zaker'], 'AAVEUSDT')"
   ]
  },
  {
   "cell_type": "code",
   "execution_count": null,
   "id": "4653a7ef",
   "metadata": {},
   "outputs": [],
   "source": [
    "get_spot_balance(coinex_request)"
   ]
  },
  {
   "cell_type": "code",
   "execution_count": null,
   "id": "c37b90d2",
   "metadata": {},
   "outputs": [],
   "source": [
    "get_open_orders(coinex_request, symbol)"
   ]
  },
  {
   "cell_type": "code",
   "execution_count": null,
   "id": "872b16d7",
   "metadata": {},
   "outputs": [],
   "source": [
    "get_open_stop_orders(coinex_request, symbol)"
   ]
  },
  {
   "cell_type": "code",
   "execution_count": null,
   "id": "42b04d49",
   "metadata": {},
   "outputs": [],
   "source": [
    "get_value(coinex_request, symbol)\n"
   ]
  },
  {
   "cell_type": "code",
   "execution_count": null,
   "id": "1f0d9883",
   "metadata": {},
   "outputs": [],
   "source": [
    "get_symbol_price(coinex_request, symbol)"
   ]
  },
  {
   "cell_type": "code",
   "execution_count": null,
   "id": "f70f7b3a",
   "metadata": {},
   "outputs": [],
   "source": [
    "close_and_exit(coinex_request, \"UNIUSDT\")"
   ]
  }
 ],
 "metadata": {
  "kernelspec": {
   "display_name": ".venv",
   "language": "python",
   "name": "python3"
  },
  "language_info": {
   "codemirror_mode": {
    "name": "ipython",
    "version": 3
   },
   "file_extension": ".py",
   "mimetype": "text/x-python",
   "name": "python",
   "nbconvert_exporter": "python",
   "pygments_lexer": "ipython3",
   "version": "3.10.12"
  }
 },
 "nbformat": 4,
 "nbformat_minor": 5
}
