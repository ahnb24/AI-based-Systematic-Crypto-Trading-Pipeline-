{
 "cells": [
  {
   "cell_type": "code",
   "execution_count": null,
   "metadata": {
    "execution": {
     "iopub.execute_input": "2024-10-03T12:07:09.893979Z",
     "iopub.status.busy": "2024-10-03T12:07:09.893217Z",
     "iopub.status.idle": "2024-10-03T12:07:13.338776Z",
     "shell.execute_reply": "2024-10-03T12:07:13.336548Z",
     "shell.execute_reply.started": "2024-10-03T12:07:09.893922Z"
    },
    "trusted": true
   },
   "outputs": [],
   "source": [
    "import sys\n",
    "%load_ext autoreload\n",
    "%reload_ext autoreload\n",
    "%autoreload 2  "
   ]
  },
  {
   "cell_type": "code",
   "execution_count": null,
   "metadata": {
    "execution": {
     "iopub.execute_input": "2024-10-03T12:07:14.540413Z",
     "iopub.status.busy": "2024-10-03T12:07:14.539047Z",
     "iopub.status.idle": "2024-10-03T12:07:18.239204Z",
     "shell.execute_reply": "2024-10-03T12:07:18.237961Z",
     "shell.execute_reply.started": "2024-10-03T12:07:14.540344Z"
    },
    "trusted": true
   },
   "outputs": [],
   "source": [
    "import warnings\n",
    "warnings.simplefilter(action='ignore', category=FutureWarning)\n",
    "\n",
    "from main_func import main\n",
    "from ETL import read_data_manual, ETL\n",
    "from utils.wandb_utils import fetch_artifacts, read_tracker_objects, download_wandb_artifact\n"
   ]
  },
  {
   "cell_type": "code",
   "execution_count": null,
   "metadata": {
    "_cell_guid": "b1076dfc-b9ad-4769-8c92-a6c4dae69d19",
    "_uuid": "8f2839f25d086af736a60e9eeb907d3b93b6e0e5",
    "execution": {
     "iopub.execute_input": "2024-10-03T12:07:06.660037Z",
     "iopub.status.busy": "2024-10-03T12:07:06.659574Z",
     "iopub.status.idle": "2024-10-03T12:07:09.891090Z",
     "shell.execute_reply": "2024-10-03T12:07:09.889764Z",
     "shell.execute_reply.started": "2024-10-03T12:07:06.659994Z"
    },
    "trusted": true
   },
   "outputs": [],
   "source": [
    "import wandb\n",
    "secret_value = 'Your Secret_API_Key'\n",
    "wandb.login(key=secret_value) \n",
    "api = wandb.Api()"
   ]
  },
  {
   "cell_type": "code",
   "execution_count": null,
   "metadata": {
    "execution": {
     "iopub.execute_input": "2024-10-03T12:06:57.347405Z",
     "iopub.status.busy": "2024-10-03T12:06:57.346434Z",
     "iopub.status.idle": "2024-10-03T12:06:57.380648Z",
     "shell.execute_reply": "2024-10-03T12:06:57.379373Z",
     "shell.execute_reply.started": "2024-10-03T12:06:57.347352Z"
    },
    "trusted": true
   },
   "outputs": [],
   "source": [
    "model_type = 'XGB' #? RF , XGB, 'LGBM'\n",
    "MANUAL_EXP = True"
   ]
  },
  {
   "cell_type": "markdown",
   "metadata": {},
   "source": [
    "# 1. Single Experiment (Manual)"
   ]
  },
  {
   "cell_type": "code",
   "execution_count": null,
   "metadata": {
    "execution": {
     "iopub.execute_input": "2024-10-03T10:36:52.951976Z",
     "iopub.status.busy": "2024-10-03T10:36:52.951194Z",
     "iopub.status.idle": "2024-10-03T10:36:52.995029Z",
     "shell.execute_reply": "2024-10-03T10:36:52.993630Z",
     "shell.execute_reply.started": "2024-10-03T10:36:52.951933Z"
    },
    "trusted": true
   },
   "outputs": [],
   "source": [
    "print('MANUAL_EXP:',MANUAL_EXP)\n",
    "man_params = {'RF':None, 'XGB':None}"
   ]
  },
  {
   "cell_type": "code",
   "execution_count": null,
   "metadata": {
    "execution": {
     "iopub.execute_input": "2024-10-03T10:36:52.998729Z",
     "iopub.status.busy": "2024-10-03T10:36:52.997959Z",
     "iopub.status.idle": "2024-10-03T10:36:53.042543Z",
     "shell.execute_reply": "2024-10-03T10:36:53.041334Z",
     "shell.execute_reply.started": "2024-10-03T10:36:52.998675Z"
    },
    "trusted": true
   },
   "outputs": [],
   "source": [
    "man_params['RF'] = {\n",
    "    'model_name' : 'RF',\n",
    "    \n",
    "    'target_symbol' : 'BTCUSDT',\n",
    "    'trade_mode': 'long' ,   #\"long\" , \"short\"\n",
    "    'trg_look_ahead' : 576,\n",
    "    'trg_take_profit' : 4,\n",
    "    'trg_stop_loss' : 2,\n",
    "\n",
    "    'strg_look_ahead' : 576,\n",
    "    'strg_take_profit' : 4,\n",
    "    'strg_stop_loss' : 2,\n",
    "\n",
    "   \n",
    "    'n_rand_features': None,\n",
    "    'save_model_mode' : None, # None, 'sample_train_size', 'last_train_size', 'all_data',\n",
    "    'n_splits' : 5,\n",
    "    'max_train_size' : 1900*288,\n",
    "    'test_size' : 90*288,\n",
    "    'train_test_gap':00*288,\n",
    "\n",
    "    'parameters':{\n",
    "        'n_estimators' : 100,\n",
    "        'max_depth': 5,\n",
    "        'max_features' : 64,\n",
    "        'max_samples' : 0.5,\n",
    "        'class_weight': {0:1,1:1}, # 'balanced'\n",
    "        'random_state': 42,\n",
    "        'n_jobs': -1\n",
    "        }\n",
    "              }"
   ]
  },
  {
   "cell_type": "code",
   "execution_count": null,
   "metadata": {
    "execution": {
     "iopub.execute_input": "2024-10-03T10:36:53.044604Z",
     "iopub.status.busy": "2024-10-03T10:36:53.044116Z",
     "iopub.status.idle": "2024-10-03T10:36:53.092148Z",
     "shell.execute_reply": "2024-10-03T10:36:53.090758Z",
     "shell.execute_reply.started": "2024-10-03T10:36:53.044531Z"
    },
    "trusted": true
   },
   "outputs": [],
   "source": [
    "man_params['XGB'] = {\n",
    "    'model_name' : 'XGB',\n",
    "    \n",
    "    'target_symbol' : 'AAVEUSDT',\n",
    "    'trade_mode': 'long' ,   #\"long\" , \"short\"\n",
    "    'look_ahead' : 39779,\n",
    "    'take_profit' : 6.986981818507871,\n",
    "    'stop_loss' : 2.6261834603021663,\n",
    "\n",
    "    # 'strg_look_ahead' : 2188,\n",
    "    # 'strg_take_profit' : 2.011355809600868,\n",
    "    # 'strg_stop_loss' : 36.2687608369979,\n",
    "\n",
    "    'n_rand_features': None,\n",
    "    'save_model_mode' : None, \n",
    "    'n_splits' : 2,\n",
    "    'max_train_size' : 900*288,\n",
    "    'test_size' : 90*288,\n",
    "    # 'train_test_gap': 00*288,\n",
    "    'leverage': 1,\n",
    "\n",
    "    \"parameters\": {\n",
    "        \"colsample_bylevel\": 0.8191288841145314,\n",
    "        \"colsample_bynode\": 0.42760210022007134,\n",
    "        \"colsample_bytree\": 0.541373857169406,\n",
    "        'device' : \"cuda\", # 'cuda', \"cpu\"\n",
    "        \"predictor\": \"gpu_predictor\",\n",
    "        \"gamma\": 1, \n",
    "        \"learning_rate\": 0.2315076680363571, \n",
    "        \"max_bin\": 512,           \n",
    "        \"max_delta_step\": 15, \n",
    "        \"max_depth\": 3,\n",
    "        \"max_leaves\": 6,\n",
    "        \"min_child_weight\": 6,\n",
    "        \"n_estimators\": 454,\n",
    "        \"n_jobs\" : -1,\n",
    "        \"objective\": \"binary:logitraw\",\n",
    "        'random_state': 42,\n",
    "        \"reg_alpha\": 16,\n",
    "        \"reg_lambda\": 2,\n",
    "        \"scale_pos_weight\" : 9.186491797405976,\n",
    "        \"subsample\": 0.5448006560715095,\n",
    "        'tree_method':'hist',\n",
    "        },\n",
    "}"
   ]
  },
  {
   "cell_type": "code",
   "execution_count": null,
   "metadata": {
    "_kg_hide-input": true,
    "execution": {
     "iopub.execute_input": "2024-10-03T10:36:55.501270Z",
     "iopub.status.busy": "2024-10-03T10:36:55.500728Z",
     "iopub.status.idle": "2024-10-03T10:38:26.605051Z",
     "shell.execute_reply": "2024-10-03T10:38:26.603777Z",
     "shell.execute_reply.started": "2024-10-03T10:36:55.501163Z"
    },
    "trusted": true
   },
   "outputs": [],
   "source": [
    "import os\n",
    "if MANUAL_EXP:\n",
    "    exp_obj, exp_metadata, artifact_name = main(\n",
    "        manual = True,\n",
    "        man_params = man_params[model_type],\n",
    "        dataset_path = f\"{os.path.dirname(os.getcwd())}/Framework data/dataset.parquet\",\n",
    "        C5M_data_path = f\"{os.path.dirname(os.getcwd())}/Framework data\",\n",
    "    )"
   ]
  },
  {
   "cell_type": "code",
   "execution_count": null,
   "metadata": {
    "execution": {
     "iopub.execute_input": "2024-10-03T11:13:51.912413Z",
     "iopub.status.busy": "2024-10-03T11:13:51.911383Z",
     "iopub.status.idle": "2024-10-03T11:13:51.964833Z",
     "shell.execute_reply": "2024-10-03T11:13:51.963366Z",
     "shell.execute_reply.started": "2024-10-03T11:13:51.912367Z"
    },
    "trusted": true
   },
   "outputs": [],
   "source": [
    "imp_fe = list(exp_obj.feature_importance[exp_obj.feature_importance.cv<.5].feature_name)\n",
    "exp_obj.feature_importance[exp_obj.feature_importance.cv<.5].feature_name"
   ]
  },
  {
   "cell_type": "code",
   "execution_count": null,
   "metadata": {
    "execution": {
     "iopub.execute_input": "2024-10-03T11:13:56.054889Z",
     "iopub.status.busy": "2024-10-03T11:13:56.054449Z",
     "iopub.status.idle": "2024-10-03T11:13:56.103076Z",
     "shell.execute_reply": "2024-10-03T11:13:56.101749Z",
     "shell.execute_reply.started": "2024-10-03T11:13:56.054850Z"
    },
    "trusted": true
   },
   "outputs": [],
   "source": [
    "def plot_feature_importances_scatter(importance_df, top_n=10, figsize=(8, 6)):\n",
    "    # Calculate mean importance and sort features\n",
    "    mean_importance = importance_df['mean_importance']\n",
    "    sorted_idx = mean_importance.argsort()[::-1]\n",
    "    top_features = importance_df.iloc[sorted_idx[:top_n]]\n",
    "    imp_cols = [f for f in importance_df if 'importance_fold' in f]\n",
    "    # Prepare data for scatter plot\n",
    "    feature_names = top_features['feature_name']\n",
    "    importance_values = top_features[imp_cols].values.T  # Transpose for plotting\n",
    "\n",
    "    # Calculate median importance\n",
    "    median_importance = top_features['median_importance']\n",
    "\n",
    "    # Create scatter plot\n",
    "    fig, ax = plt.subplots(figsize=figsize)\n",
    "    \n",
    "    for i, feature in enumerate(feature_names):\n",
    "        ax.scatter([i] * importance_values.shape[0], importance_values[:, i], \n",
    "                   alpha=0.6, label=feature)\n",
    "\n",
    "    # Plot median line\n",
    "    ax.plot(range(top_n), median_importance, color='red', linestyle='--', \n",
    "            linewidth=2, label='Median')\n",
    "    \n",
    "    # Add value labels on the median line\n",
    "    for i, v in enumerate(median_importance):\n",
    "        ax.text(i, v, f'{v:.3f}', ha='center', va='bottom', fontweight='bold')\n",
    "\n",
    "    ax.set_xlabel('Features', fontsize=12)\n",
    "    ax.set_ylabel('Feature Importance', fontsize=12)\n",
    "    ax.set_title(f'Top {top_n} Feature Importances Across Folds with Median', fontsize=14)\n",
    "    ax.set_xticks(range(top_n))\n",
    "    ax.set_xticklabels(feature_names, rotation=90, ha='right')\n",
    "#     ax.legend(title='Features', bbox_to_anchor=(1.05, 1), loc='upper left')\n",
    "    \n",
    "    plt.tight_layout()\n",
    "    plt.show()"
   ]
  },
  {
   "cell_type": "code",
   "execution_count": null,
   "metadata": {
    "execution": {
     "iopub.execute_input": "2024-10-03T11:13:57.534023Z",
     "iopub.status.busy": "2024-10-03T11:13:57.533228Z",
     "iopub.status.idle": "2024-10-03T11:13:58.434163Z",
     "shell.execute_reply": "2024-10-03T11:13:58.432879Z",
     "shell.execute_reply.started": "2024-10-03T11:13:57.533976Z"
    },
    "trusted": true
   },
   "outputs": [],
   "source": [
    "import matplotlib.pyplot as plt\n",
    "import seaborn as sns\n",
    "plot_feature_importances_scatter(exp_obj.feature_importance)"
   ]
  },
  {
   "cell_type": "markdown",
   "metadata": {},
   "source": [
    "### Save manual object on W&B as Artifact"
   ]
  },
  {
   "cell_type": "code",
   "execution_count": null,
   "metadata": {
    "execution": {
     "iopub.execute_input": "2024-10-03T11:15:12.078304Z",
     "iopub.status.busy": "2024-10-03T11:15:12.077819Z",
     "iopub.status.idle": "2024-10-03T11:15:15.449925Z",
     "shell.execute_reply": "2024-10-03T11:15:15.448746Z",
     "shell.execute_reply.started": "2024-10-03T11:15:12.078259Z"
    },
    "trusted": true
   },
   "outputs": [],
   "source": [
    "if MANUAL_EXP:\n",
    "    # wandb.init(settings=wandb.Settings(init_timeout=5))\n",
    "    wandb.init( project = 'ultimate_models')\n",
    "    obj_artifact = wandb.Artifact(artifact_name, 'manual_experiment', metadata = exp_metadata)\n",
    "    obj_artifact.add_file(local_path=exp_obj.store_name+'.zip', name=exp_obj.store_name+'.zip')\n",
    "    wandb.log_artifact(obj_artifact)"
   ]
  },
  {
   "cell_type": "code",
   "execution_count": null,
   "metadata": {
    "trusted": true
   },
   "outputs": [],
   "source": [
    "if MANUAL_EXP:\n",
    "    wandb.finish()"
   ]
  },
  {
   "cell_type": "markdown",
   "metadata": {},
   "source": [
    "## Save imp_features (when we have RANDOM features)"
   ]
  },
  {
   "cell_type": "code",
   "execution_count": null,
   "metadata": {
    "trusted": true
   },
   "outputs": [],
   "source": [
    "if MANUAL_EXP:\n",
    "    upload_imp_features = True\n",
    "    symbol = man_params[model_type]['target_symbol']\n",
    "    trade_mode = man_params[model_type]['trade_mode']\n",
    "    look_ahead = man_params[model_type]['trg_look_ahead']\n",
    "    take_profit = man_params[model_type]['trg_take_profit']\n",
    "    stop_loss = man_params[model_type]['trg_stop_loss']"
   ]
  },
  {
   "cell_type": "code",
   "execution_count": null,
   "metadata": {
    "trusted": true
   },
   "outputs": [],
   "source": [
    "if MANUAL_EXP and upload_imp_features :\n",
    "    print('save_imp_features ')\n",
    "    import pickle as pkl\n",
    "    the_name = f\"df_feature_imp_{trade_mode}_{symbol}_M{look_ahead}_TP{take_profit}_SL{stop_loss}.pkl\"\n",
    "    file = open(the_name, 'wb')\n",
    "    pkl.dump(exp_obj.feature_importance,file)\n",
    "    file.close()\n",
    "    \n",
    "    imp_artifact_name = artifact_name + '_imp_features'\n",
    "    wandb.init( project = 'forex', job_type=\"feature_selection\")\n",
    "    imp_artifact = wandb.Artifact(imp_artifact_name, 'feature_selection', metadata = exp_metadata)\n",
    "    imp_artifact.add_file(local_path = the_name,name = the_name)\n",
    "    print(f\"--> dataset size MB: {imp_artifact.size / 1000000}\")\n",
    "    wandb.log_artifact(imp_artifact)\n",
    "    wandb.finish()"
   ]
  },
  {
   "cell_type": "markdown",
   "metadata": {},
   "source": [
    "# 2. Sweep Experiment using W&B"
   ]
  },
  {
   "cell_type": "code",
   "execution_count": null,
   "metadata": {
    "execution": {
     "iopub.execute_input": "2024-10-03T11:37:54.919264Z",
     "iopub.status.busy": "2024-10-03T11:37:54.918142Z",
     "iopub.status.idle": "2024-10-03T11:37:54.971794Z",
     "shell.execute_reply": "2024-10-03T11:37:54.970398Z",
     "shell.execute_reply.started": "2024-10-03T11:37:54.919199Z"
    },
    "trusted": true
   },
   "outputs": [],
   "source": [
    "sweep_configs = {}\n",
    "\n",
    "sweep_configs['XGB'] = {\n",
    "    \"method\": \"bayes\",\n",
    "    \"metric\": {\n",
    "        \"name\": \"profit_percent_mean_valid&test\", \n",
    "        \"goal\": \"maximize\"   \n",
    "    },\n",
    "        \"parameters\": {\n",
    "        'model_name' : {\"values\": ['XGB']},\n",
    "        \n",
    "        'target_symbol' : {\"values\": ['AAVEUSDT']}, \n",
    "        'trade_mode' : {\"values\": ['long']}, \n",
    "        \"look_ahead\": {'distribution': 'int_uniform', 'min': 5.0, 'max': 7200.0},\n",
    "        \"take_profit\": {'distribution': 'uniform', 'min': 1, 'max': 40.0},\n",
    "        \"stop_loss\": {'distribution': 'uniform', 'min': 1, 'max': 40.0},\n",
    "        \n",
    "        # \"strg_look_ahead\": {'distribution': 'int_uniform', 'min': 60.0, 'max': 43200.0},\n",
    "        # \"strg_take_profit\": {'distribution': 'uniform', 'min': 0.5, 'max': 40.0},\n",
    "        # \"strg_stop_loss\": {'distribution': 'uniform', 'min':0.5, 'max': 40.0},\n",
    "                \n",
    "        'n_rand_features': {\"values\": [None]}, \n",
    "        'save_model_mode' : {\"values\": [None]}, \n",
    "\n",
    "        \"early_stopping_rounds\" :{\"values\": [None]}, \n",
    "        'n_splits' : {\"values\":[23]},\n",
    "        'max_train_size' : {\"values\":[180*288]},\n",
    "        'test_size' : {\"values\":[25*288]},\n",
    "        # 'train_test_gap' : {\"values\": [0]},\n",
    "        # 'step_size': {\"values\": [900*288]},\n",
    "        'leverage': {\"values\": [1]},\n",
    "        \n",
    "\n",
    "\n",
    "\n",
    "        \"colsample_bynode\": {'distribution': 'uniform', 'min': 0.4, 'max': 0.9},\n",
    "        \"colsample_bylevel\": {'distribution': 'uniform', 'min': 0.4, 'max': 0.9},\n",
    "        \"colsample_bytree\": {'distribution': 'uniform', 'min': 0.4, 'max': 0.9},\n",
    "        'device' : {\"values\": [\"cuda\"]}, \n",
    "        \"predictor\": {\"values\": [\"gpu_predictor\"]},\n",
    "        'eval_metric':{\"values\": [\"aucpr\"]},\n",
    "        \"gamma\": {'distribution': 'int_uniform', 'min': 1.0, 'max': 20.0}, \n",
    "        \"learning_rate\": {'distribution': 'uniform', 'min': 0.01, 'max': 0.9},\n",
    "        \"max_bin\": {\"values\": [256, 512]},            \n",
    "        \"max_delta_step\": {'distribution': 'int_uniform', 'min': 1.0, 'max': 20.0}, \n",
    "        \"max_depth\": {'distribution': 'int_uniform', 'min': 1.0, 'max': 6.0},\n",
    "        \"max_leaves\": {'distribution': 'int_uniform', 'min': 1.0, 'max': 20.0},\n",
    "        \"min_child_weight\": {'distribution': 'int_uniform', 'min': 1.0, 'max': 20.0}, \n",
    "        \"n_estimators\": {'distribution': 'int_uniform', 'min': 100.0, 'max': 500.0},\n",
    "        \"n_jobs\" : {\"values\":[-1]},\n",
    "        \"objective\": {\"values\": [\"binary:logitraw\",\"binary:logistic\"]},\n",
    "        'random_state': {\"values\":[42]},\n",
    "        \"reg_lambda\": {'distribution': 'int_uniform', 'min': 1.0, 'max': 20.0},\n",
    "        \"reg_alpha\": {'distribution': 'int_uniform', 'min': 1.0, 'max': 20.0},\n",
    "        \"scale_pos_weight\" : {'distribution': 'uniform', 'min': 0.001, 'max': 20.0},\n",
    "        \"subsample\": {'distribution': 'uniform', 'min': 0.4, 'max': 0.9},\n",
    "        },\n",
    "}"
   ]
  },
  {
   "cell_type": "code",
   "execution_count": null,
   "metadata": {
    "execution": {
     "iopub.execute_input": "2024-10-03T11:38:08.044684Z",
     "iopub.status.busy": "2024-10-03T11:38:08.044219Z",
     "iopub.status.idle": "2024-10-03T12:02:46.008635Z",
     "shell.execute_reply": "2024-10-03T12:02:46.007484Z",
     "shell.execute_reply.started": "2024-10-03T11:38:08.044640Z"
    },
    "scrolled": true,
    "trusted": true
   },
   "outputs": [],
   "source": [
    "%%time\n",
    "\n",
    "sweep_id = wandb.sweep(\n",
    "    sweep_configs[model_type],\n",
    "\n",
    "    project = 'backtestAAVEUSDT_Long')\n",
    "\n",
    "#!!!!!!!!!!!! SWEEP ID !!!!!!!!!!!!!!!!!\n",
    "wandb.agent(sweep_id = sweep_id, function = main, project = 'backtestAAVEUSDT_Long')\n",
    "wandb.finish()"
   ]
  },
  {
   "cell_type": "code",
   "execution_count": null,
   "metadata": {},
   "outputs": [],
   "source": [
    "#STOP SWEEP\n",
    "if not MANUAL_EXP:\n",
    "    print('Finishing The SWEEP ...')\n",
    "    print(f'{1/0}')"
   ]
  }
 ],
 "metadata": {
  "kaggle": {
   "accelerator": "none",
   "dataSources": [
    {
     "datasetId": 5807195,
     "sourceId": 9534740,
     "sourceType": "datasetVersion"
    }
   ],
   "dockerImageVersionId": 30775,
   "isGpuEnabled": false,
   "isInternetEnabled": true,
   "language": "python",
   "sourceType": "notebook"
  },
  "kernelspec": {
   "display_name": "Python 3",
   "language": "python",
   "name": "python3"
  },
  "language_info": {
   "codemirror_mode": {
    "name": "ipython",
    "version": 3
   },
   "file_extension": ".py",
   "mimetype": "text/x-python",
   "name": "python",
   "nbconvert_exporter": "python",
   "pygments_lexer": "ipython3",
   "version": "3.10.11"
  }
 },
 "nbformat": 4,
 "nbformat_minor": 4
}
